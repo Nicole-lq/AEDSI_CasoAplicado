{
  "nbformat": 4,
  "nbformat_minor": 0,
  "metadata": {
    "colab": {
      "provenance": []
    },
    "kernelspec": {
      "name": "python3",
      "display_name": "Python 3"
    },
    "language_info": {
      "name": "python"
    }
  },
  "cells": [
    {
      "cell_type": "markdown",
      "source": [
        "# G17 : Análisis estocásticos de sistemas industriales\n",
        "------"
      ],
      "metadata": {
        "id": "PQlQ-lYgRHmk"
      }
    },
    {
      "cell_type": "markdown",
      "source": [
        "# Enunciado del Caso\n"
      ],
      "metadata": {
        "id": "hU9zAuwZRANt"
      }
    },
    {
      "cell_type": "markdown",
      "source": [
        "\n",
        "Una empresa de productos químicos dispone de 2 plantas, donde elabora su único producto, y 3 estanques de almacenamiento temporal más cerca de sus consumidores finales, tal como se muestra en la figura. Las plantas tienen una capacidad de producción $O_i$, y los estanques una capacidad de almacenamiento $Q_j$.\n",
        "\n",
        "Existen costos asociados a:\n",
        "- La elaboración de productos en cada planta ($CE_i$),\n",
        "- El envío de productos desde las plantas a los estanques ($CPB_{ij}$),\n",
        "- El almacenamiento en los estanques ($CA_j$), y\n",
        "- El envío desde los estanques a los clientes ($CBC_{jk}$).\n",
        "\n",
        "Todos estos costos son proporcionales a la cantidad producida, almacenada o enviada.\n",
        "\n",
        "Se debe, en primera instancia, tomar la decisión de cuánto elaborar o producir en cada planta ($W_i$) y cuánto enviar desde cada una de éstas a cada estanque ($X_{ij}$). Estas decisiones deben tomarse antes de conocer la demanda de los clientes, es decir, antes de observar el resultado de los escenarios que pueden ocurrir con probabilidad $P_e$.\n",
        "\n",
        "Después de conocer la demanda de los clientes ($\\text{Demanda}_k^e$), se debe decidir cuánto enviar desde cada estanque a cada cliente ($Y_{jk}^e$). Si los estanques no tuvieran la cantidad suficiente para satisfacer las demandas de los clientes, la demanda insatisfecha simplemente se pierde. Cada cliente paga un precio $P_k$ por cada unidad de producto. El objetivo de la empresa es maximizar las utilidades obtenidas por la venta de los productos que ofrece.\n",
        "\n",
        "---\n",
        "\n",
        "## Datos del Problema\n",
        "\n",
        "### Capacidades de Producción y Almacenamiento\n",
        "| Planta | Capacidad de Producción ($O_i$) | Estanque | Capacidad de Almacenamiento ($Q_j$) |\n",
        "|--------|---------------------------------|----------|-------------------------------------|\n",
        "| 1      | 1600                            | 1        | 1200                                |\n",
        "| 2      | 1400                            | 2        | 1300                                |\n",
        "|        |                                 | 3        | 800                                 |\n",
        "\n",
        "---\n",
        "\n",
        "### Costos Unitarios\n",
        "#### Producción y Almacenamiento\n",
        "- Costo de producción por planta ($CE_i$):\n",
        "  - Planta 1: 50\n",
        "  - Planta 2: 45\n",
        "- Costo de almacenamiento por estanque ($CA_j$):\n",
        "  - Estanque 1: 2\n",
        "  - Estanque 2: 3\n",
        "  - Estanque 3: 1\n",
        "\n",
        "#### Costos de Envío\n",
        "1. **De plantas a estanques** ($CPB_{ij}$):\n",
        "\n",
        "|     | Estanque 1 | Estanque 2 | Estanque 3|\n",
        "|----------|------------|------------|------------|\n",
        "| Planta 1 | 5          | 7          | 8          |\n",
        "| Planta 2 | 8          | 6          | 9          |\n",
        "\n",
        "\n",
        "\n",
        "2. **De estanques a clientes** ($CBC_{jk}$):\n",
        "\n",
        "|         | Cliente 1  | Cliente 2  | Cliente 3  |\n",
        "|----------|------------|------------|------------|\n",
        "| Estanque 1 | 10         | 12         | 13         |\n",
        "| Estanque 2 | 9          | 13         | 15         |\n",
        "| Estanque 3 | 12         | 10         | 7          |\n",
        "\n",
        "\n",
        "### Demandas y Escenarios\n",
        "| Cliente | Demanda 1 (prob.) | Demanda 2 (prob.) | Demanda 3 (prob.) | Precio por unidad ($P_k$) |\n",
        "|---------|--------------------|--------------------|--------------------|--------------------------|\n",
        "| 1       | 500 (0.60)         | 850 (0.40)         | ---                | 110                      |\n",
        "| 2       | 0 (0.35)           | 700 (0.45)         | 1000 (0.20)        | 98                       |\n",
        "| 3       | 400 (0.25)         | 600 (0.30)         | 1100 (0.45)        | 103                      |\n",
        "\n",
        "\n"
      ],
      "metadata": {
        "id": "cM22b57tIlDk"
      }
    },
    {
      "cell_type": "markdown",
      "source": [
        "# Actividades"
      ],
      "metadata": {
        "id": "OLXrV-R1Jmze"
      }
    },
    {
      "cell_type": "markdown",
      "source": [
        "## 1. **Formula un Modelo de Programación Lineal Determinístico Equivalente** de este problema estocástico. Para esto, define claramente:\n",
        "   - Variables de decisión de primera y segunda etapa.\n",
        "   - Parámetros del modelo (sugeridos en el enunciado con sus respectivos subíndices).\n",
        "   - Función objetivo y restricciones.\n"
      ],
      "metadata": {
        "id": "F8swPjzbJow1"
      }
    },
    {
      "cell_type": "markdown",
      "source": [
        "### Variables de decisión"
      ],
      "metadata": {
        "id": "0JGzhLY-KIDm"
      }
    },
    {
      "cell_type": "markdown",
      "source": [
        "\n",
        "1. Primera etapa:\n",
        "   - $W_i$: Cantidad a elaborar en cada planta $i$.\n",
        "   - $X_{ij}$: Cantidad enviada de cada planta $i$ al estanque $j$.\n",
        "\n",
        "2. Segunda etapa:\n",
        "   - $Y_{jk}^e$: Cantidad enviada desde el estanque $j$ al cliente $k$ en el escenario $e$.\n"
      ],
      "metadata": {
        "id": "aTPQ1G5kJ4cO"
      }
    },
    {
      "cell_type": "markdown",
      "source": [
        "### Parámetros"
      ],
      "metadata": {
        "id": "ThqQ43rbKKgL"
      }
    },
    {
      "cell_type": "markdown",
      "source": [
        "\n",
        "- $O_i$: Capacidad de producción de la planta $i$.\n",
        "- $Q_j$: Capacidad de almacenamiento del estanque $j$.\n",
        "- $CE_i$: Costo unitario de elaboración de productos en la planta $i$.\n",
        "- $CA_j$: Costo unitario de almacenamiento en el estanque $j$.\n",
        "- $CPB_{ij}$: Costo unitario de envío de productos desde la planta $i$ al estanque $j$.\n",
        "- $CBC_{jk}$: Costo unitario de envío de productos desde el estanque $j$ al cliente $k$.\n",
        "- $P_k$: Precio por producto para el cliente $k$.\n",
        "- $P_e$: Probabilidad de ocurrencia de cada escenario $e$.\n",
        "- $\\text{Demanda}_k^e$: Demanda del cliente $k$ en el escenario $e$.\n"
      ],
      "metadata": {
        "id": "FDbJuWrpJ8yy"
      }
    },
    {
      "cell_type": "markdown",
      "source": [
        "### Función Objetivo"
      ],
      "metadata": {
        "id": "WZKBFyF_KRmN"
      }
    },
    {
      "cell_type": "markdown",
      "source": [
        "\n",
        "Maximizar:\n",
        "$$\n",
        "Z = - \\left( \\sum_{i=1}^2 CE_i W_i + \\sum_{i=1}^2 \\sum_{j=1}^3 CPB_{ij} X_{ij} + \\sum_{j=1}^3 CA_j \\sum_{i=1}^2 X_{ij} \\right)\n",
        "+ \\sum_{e=1}^{18} P_e \\left( \\sum_{k=1}^3 P_k \\sum_{j=1}^3 Y_{jk}^e - \\sum_{j=1}^3 \\sum_{k=1}^3 CBC_{jk} Y_{jk}^e \\right)\n",
        "$$\n"
      ],
      "metadata": {
        "id": "eRCX2Og5KQUG"
      }
    },
    {
      "cell_type": "markdown",
      "source": [
        "### Explicación de la función y sus términos asociados:"
      ],
      "metadata": {
        "id": "vq-O4vfFKYb-"
      }
    },
    {
      "cell_type": "markdown",
      "source": [
        "\n",
        "#### Costos (parte negativa):\n",
        "- Costo de producción en las plantas:\n",
        "  $$\n",
        "  \\sum_{i=1}^2 CE_i W_i\n",
        "  $$\n",
        "- Costo de envío desde las plantas a los estanques:\n",
        "  $$\n",
        "  \\sum_{i=1}^2 \\sum_{j=1}^3 CPB_{ij} X_{ij}\n",
        "  $$\n",
        "- Costo de almacenamiento en los estanques:\n",
        "  $$\n",
        "  \\sum_{j=1}^3 CA_j \\sum_{i=1}^2 X_{ij}\n",
        "  $$\n",
        "\n",
        "#### Ganancias esperadas (parte positiva):\n",
        "- Ingresos esperados ponderados por la probabilidad $P_e$:\n",
        "  $$\n",
        "  \\sum_{e=1}^{18} P_e \\left( \\sum_{k=1}^3 P_k \\sum_{j=1}^3 Y_{jk}^e \\right)\n",
        "  $$\n",
        "- Costo de envío desde los estanques a los clientes en los distintos escenarios:\n",
        "  $$\n",
        "  - \\sum_{e=1}^{18} P_e \\sum_{j=1}^3 \\sum_{k=1}^3 CBC_{jk} Y_{jk}^e\n",
        "  $$"
      ],
      "metadata": {
        "id": "KJQ7Ar3_KVgM"
      }
    },
    {
      "cell_type": "markdown",
      "source": [
        "### Restricciones"
      ],
      "metadata": {
        "id": "5WuDUecxKoC1"
      }
    },
    {
      "cell_type": "markdown",
      "source": [
        "\n",
        "1. **Capacidad de producción en las plantas:**\n",
        "   $$\n",
        "   W_i \\leq O_i, \\quad \\forall i = 1, 2\n",
        "   $$\n",
        "\n",
        "2. **Capacidad de almacenamiento en los estanques:**\n",
        "   $$\n",
        "   \\sum_{i=1}^2 X_{ij} \\leq Q_j, \\quad \\forall j = 1, 2, 3\n",
        "   $$\n",
        "\n",
        "3. **Balance de flujo en las plantas:**\n",
        "   $$\n",
        "   \\sum_{j=1}^3 X_{ij} = W_i, \\quad \\forall i = 1, 2\n",
        "   $$\n",
        "\n",
        "4. **Satisfacción de la demanda de los clientes:**\n",
        "   $$\n",
        "   \\sum_{j=1}^3 Y_{jk}^e \\leq \\text{Demanda}_k^e, \\quad \\forall k = 1, 2, 3, \\; \\forall e = 1, \\dots, 18\n",
        "   $$\n",
        "\n",
        "5. **Disponibilidad en los estanques:**\n",
        "   $$\n",
        "   \\sum_{k=1}^3 Y_{jk}^e \\leq \\sum_{i=1}^2 X_{ij}, \\quad \\forall j = 1, 2, 3, \\; \\forall e = 1, \\dots, 18\n",
        "   $$\n",
        "\n",
        "6. **No negatividad:**\n",
        "   $$\n",
        "   W_i \\geq 0, \\; X_{ij} \\geq 0, \\; Y_{jk}^e \\geq 0, \\quad \\forall i, j, k, e\n",
        "   $$\n"
      ],
      "metadata": {
        "id": "U5kArJKqKACm"
      }
    },
    {
      "cell_type": "markdown",
      "source": [
        "## 2. **Implementa este problema** en algún software computacional conocido (como Python, Gurobi, o Solver de Excel)."
      ],
      "metadata": {
        "id": "kwPCdXURJqrj"
      }
    },
    {
      "cell_type": "markdown",
      "source": [
        "Se decide implementar un modelo de solución para el problema utilizando el lenguaje Python, particularmente trabajado en un cuaderno de Google Colab, con soporte de la librería `pulp`. A continuación se presentan las estapas para implementar el modelo.\n",
        "\n"
      ],
      "metadata": {
        "id": "hmrg1MvtFP3y"
      }
    },
    {
      "cell_type": "markdown",
      "source": [
        "### Librería"
      ],
      "metadata": {
        "id": "axwv1F6hOiQt"
      }
    },
    {
      "cell_type": "code",
      "source": [
        "# Instalación de librería en Google Colab\n",
        "pip install pulp"
      ],
      "metadata": {
        "colab": {
          "base_uri": "https://localhost:8080/"
        },
        "id": "0WdidRaQK9xF",
        "outputId": "fdef8a1f-4fbe-4c7a-997b-1205ae7212b7"
      },
      "execution_count": null,
      "outputs": [
        {
          "output_type": "stream",
          "name": "stdout",
          "text": [
            "Collecting pulp\n",
            "  Downloading PuLP-2.9.0-py3-none-any.whl.metadata (5.4 kB)\n",
            "Downloading PuLP-2.9.0-py3-none-any.whl (17.7 MB)\n",
            "\u001b[2K   \u001b[90m━━━━━━━━━━━━━━━━━━━━━━━━━━━━━━━━━━━━━━━━\u001b[0m \u001b[32m17.7/17.7 MB\u001b[0m \u001b[31m49.5 MB/s\u001b[0m eta \u001b[36m0:00:00\u001b[0m\n",
            "\u001b[?25hInstalling collected packages: pulp\n",
            "Successfully installed pulp-2.9.0\n"
          ]
        }
      ]
    },
    {
      "cell_type": "code",
      "execution_count": 12,
      "metadata": {
        "id": "dh1bncYWE51-"
      },
      "outputs": [],
      "source": [
        "# Carga de librería\n",
        "from pulp import LpMaximize, LpProblem, LpVariable, lpSum\n"
      ]
    },
    {
      "cell_type": "markdown",
      "source": [
        "### Conjuntos y parámetros"
      ],
      "metadata": {
        "id": "sDMgPyUOOcK-"
      }
    },
    {
      "cell_type": "code",
      "source": [
        "# Conjuntos\n",
        "plantas = [1, 2]\n",
        "estanques = [1, 2, 3]\n",
        "clientes = [1, 2, 3]\n",
        "escenarios = [1, 2, 3]\n",
        "\n",
        "# Capacidades de producción en las plantas\n",
        "O = {1: 1600, 2: 1400}\n",
        "\n",
        "# Capacidades de almacenamiento en los estanques\n",
        "Q = {1: 1200, 2: 1300, 3: 800}\n",
        "\n",
        "# Costos de producción en las plantas\n",
        "CE = {1: 50, 2: 45}\n",
        "\n",
        "# Costos de envío desde plantas a estanques\n",
        "CPB = {(1, 1): 5, (1, 2): 7, (1, 3): 8, (2, 1): 8, (2, 2): 6, (2, 3): 9}\n",
        "\n",
        "# Costos de almacenamiento en los estanques\n",
        "CA = {1: 2, 2: 3, 3: 1}\n",
        "\n",
        "# Costos de envío desde estanques a clientes\n",
        "CBC = {(1, 1): 10, (1, 2): 12, (1, 3): 13,\n",
        "       (2, 1): 9,  (2, 2): 13, (2, 3): 15,\n",
        "       (3, 1): 12, (3, 2): 10, (3, 3): 7}\n",
        "\n",
        "# Precios de venta a clientes\n",
        "P = {1: 110, 2: 98, 3: 103}\n",
        "\n",
        "# Demandas de clientes\n",
        "D = {(1, 1): 500, (1, 2): 850, (2, 2): 700, (2, 3): 1000, (3, 1): 400, (3, 2): 600, (3, 3): 1100}\n",
        "\n",
        "# Probabilidades de los escenarios\n",
        "Pe = {1: 0.6, 2: 0.4, 3: 0.2}"
      ],
      "metadata": {
        "id": "vxjybeKkLhXT"
      },
      "execution_count": 14,
      "outputs": []
    },
    {
      "cell_type": "markdown",
      "source": [
        "### Definición de modelo, variables y función objetivo"
      ],
      "metadata": {
        "id": "k5HkoZ5LOmuV"
      }
    },
    {
      "cell_type": "code",
      "source": [
        "# Modelo\n",
        "modelo = LpProblem(name=\"optimización_abastecimiento_químico\", sense=LpMaximize)\n",
        "\n",
        "# Variables de decisión\n",
        "W = LpVariable.dicts(\"W\", plantas, lowBound=0)  # Cantidad producida en las plantas\n",
        "X = LpVariable.dicts(\"X\", [(i, j) for i in plantas for j in estanques], lowBound=0)  # Cantidad enviada de plantas a estanques\n",
        "Y = LpVariable.dicts(\"Y\", [(j, k, e) for j in estanques for k in clientes for e in escenarios], lowBound=0)  # Cantidad enviada de estanques a clientes en cada escenario\n",
        "\n",
        "# Función objetivo\n",
        "beneficio = lpSum(\n",
        "    Pe[e] * (lpSum(P[k] * Y[j, k, e] - CBC[j, k] * Y[j, k, e] for j in estanques for k in clientes))\n",
        "    for e in escenarios\n",
        ") - lpSum(CE[i] * W[i] for i in plantas) - lpSum(CPB[i, j] * X[i, j] for i in plantas for j in estanques) - lpSum(CA[j] * lpSum(X[i, j] for i in plantas) for j in estanques)\n",
        "modelo += beneficio"
      ],
      "metadata": {
        "id": "4oGlcdp7OE6r"
      },
      "execution_count": 15,
      "outputs": []
    },
    {
      "cell_type": "markdown",
      "source": [
        "### Definición de restricciones"
      ],
      "metadata": {
        "id": "J1lJixLYOu-N"
      }
    },
    {
      "cell_type": "code",
      "source": [
        "# Restricciones\n",
        "\n",
        "# 1. Capacidad de producción en las plantas\n",
        "for i in plantas:\n",
        "    modelo += W[i] <= O[i], f\"Capacidad_Producción_{i}\"\n",
        "\n",
        "# 2. Capacidad de almacenamiento en los estanques\n",
        "for j in estanques:\n",
        "    modelo += lpSum(X[i, j] for i in plantas) <= Q[j], f\"Capacidad_Estanque_{j}\"\n",
        "\n",
        "# 3. Balance de flujos en las plantas\n",
        "for i in plantas:\n",
        "    modelo += lpSum(X[i, j] for j in estanques) == W[i], f\"Balance_Flujo_Planta_{i}\"\n",
        "\n",
        "# 4. Satisfacción de la demanda de los clientes en cada escenario\n",
        "for e in escenarios:\n",
        "    for k in clientes:\n",
        "        modelo += lpSum(Y[j, k, e] for j in estanques) <= D.get((k, e), 0), f\"Demanda_Cliente_{k}_Escenario_{e}\"\n",
        "\n",
        "# 5. Disponibilidad de estanques para cada escenario\n",
        "for e in escenarios:\n",
        "    for j in estanques:\n",
        "        modelo += lpSum(Y[j, k, e] for k in clientes) <= lpSum(X[i, j] for i in plantas), f\"Disponibilidad_Estanque_{j}_Escenario_{e}\""
      ],
      "metadata": {
        "id": "y4jEpdKHOB4O"
      },
      "execution_count": 16,
      "outputs": []
    },
    {
      "cell_type": "markdown",
      "source": [
        "## 3. Determina la **solución óptima** del problema. Realiza un breve análisis de los resultados obtenidos y cómo se interpretan en el contexto del problema estocástico."
      ],
      "metadata": {
        "id": "alOuv7JNJr-L"
      }
    },
    {
      "cell_type": "markdown",
      "source": [
        "Para obtener la solución óptima se aplica el modelo implementado sobre la data entregada por el enunciado, y luego, se genera un breve análisis de éstos resultados."
      ],
      "metadata": {
        "id": "vr4t-y-RQyBd"
      }
    },
    {
      "cell_type": "markdown",
      "source": [
        "### Aplicación del modelo solver y visualización de resultados"
      ],
      "metadata": {
        "id": "V2MqOsd2O7uj"
      }
    },
    {
      "cell_type": "code",
      "source": [
        "# Resolver el modelo\n",
        "modelo.solve()\n",
        "\n",
        "# Resultados\n",
        "print(\"Beneficio Óptimo:\", modelo.objective.value())\n",
        "for i in plantas:\n",
        "    print(f\"Producción en la Planta {i}: {W[i].value()}\")\n",
        "for i in plantas:\n",
        "    for j in estanques:\n",
        "        print(f\"Flujo desde la Planta {i} al Estanque {j}: {X[i, j].value()}\")\n",
        "for e in escenarios:\n",
        "    for j in estanques:\n",
        "        for k in clientes:\n",
        "            print(f\"Flujo desde el Estanque {j} al Cliente {k} en el Escenario {e}: {Y[j, k, e].value()}\")\n"
      ],
      "metadata": {
        "colab": {
          "base_uri": "https://localhost:8080/",
          "height": 0
        },
        "id": "fIPo6Ed1N9f4",
        "outputId": "8d3887d5-5b23-4164-c826-ac1a127284eb"
      },
      "execution_count": 20,
      "outputs": [
        {
          "output_type": "stream",
          "name": "stdout",
          "text": [
            "Beneficio Óptimo: 57990.0\n",
            "Producción en la Planta 1: 0.0\n",
            "Producción en la Planta 2: 1400.0\n",
            "Flujo desde la Planta 1 al Estanque 1: 0.0\n",
            "Flujo desde la Planta 1 al Estanque 2: 0.0\n",
            "Flujo desde la Planta 1 al Estanque 3: 0.0\n",
            "Flujo desde la Planta 2 al Estanque 1: 0.0\n",
            "Flujo desde la Planta 2 al Estanque 2: 850.0\n",
            "Flujo desde la Planta 2 al Estanque 3: 550.0\n",
            "Flujo desde el Estanque 1 al Cliente 1 en el Escenario 1: 0.0\n",
            "Flujo desde el Estanque 1 al Cliente 2 en el Escenario 1: 0.0\n",
            "Flujo desde el Estanque 1 al Cliente 3 en el Escenario 1: 0.0\n",
            "Flujo desde el Estanque 2 al Cliente 1 en el Escenario 1: 500.0\n",
            "Flujo desde el Estanque 2 al Cliente 2 en el Escenario 1: 0.0\n",
            "Flujo desde el Estanque 2 al Cliente 3 en el Escenario 1: 0.0\n",
            "Flujo desde el Estanque 3 al Cliente 1 en el Escenario 1: 0.0\n",
            "Flujo desde el Estanque 3 al Cliente 2 en el Escenario 1: 0.0\n",
            "Flujo desde el Estanque 3 al Cliente 3 en el Escenario 1: 400.0\n",
            "Flujo desde el Estanque 1 al Cliente 1 en el Escenario 2: 0.0\n",
            "Flujo desde el Estanque 1 al Cliente 2 en el Escenario 2: 0.0\n",
            "Flujo desde el Estanque 1 al Cliente 3 en el Escenario 2: 0.0\n",
            "Flujo desde el Estanque 2 al Cliente 1 en el Escenario 2: 850.0\n",
            "Flujo desde el Estanque 2 al Cliente 2 en el Escenario 2: 0.0\n",
            "Flujo desde el Estanque 2 al Cliente 3 en el Escenario 2: 0.0\n",
            "Flujo desde el Estanque 3 al Cliente 1 en el Escenario 2: 0.0\n",
            "Flujo desde el Estanque 3 al Cliente 2 en el Escenario 2: 0.0\n",
            "Flujo desde el Estanque 3 al Cliente 3 en el Escenario 2: 550.0\n",
            "Flujo desde el Estanque 1 al Cliente 1 en el Escenario 3: 0.0\n",
            "Flujo desde el Estanque 1 al Cliente 2 en el Escenario 3: 0.0\n",
            "Flujo desde el Estanque 1 al Cliente 3 en el Escenario 3: 0.0\n",
            "Flujo desde el Estanque 2 al Cliente 1 en el Escenario 3: 0.0\n",
            "Flujo desde el Estanque 2 al Cliente 2 en el Escenario 3: 300.0\n",
            "Flujo desde el Estanque 2 al Cliente 3 en el Escenario 3: 550.0\n",
            "Flujo desde el Estanque 3 al Cliente 1 en el Escenario 3: 0.0\n",
            "Flujo desde el Estanque 3 al Cliente 2 en el Escenario 3: 0.0\n",
            "Flujo desde el Estanque 3 al Cliente 3 en el Escenario 3: 550.0\n"
          ]
        }
      ]
    },
    {
      "cell_type": "markdown",
      "source": [
        "### Breve análisis de resultados"
      ],
      "metadata": {
        "id": "edX7kp-mQBNH"
      }
    },
    {
      "cell_type": "markdown",
      "source": [
        "\n",
        "Los resultados muestran que, en la solución óptima, la producción se concentra únicamente en la **Planta 2**, mientras que la **Planta 1** no tiene producción. Esto sugiere que la **Planta 2** es la más eficiente bajo las condiciones del modelo.\n",
        "\n",
        "Los flujos entre las plantas y los tanques indican que la Planta 2 abastece principalmente el **Tanque 2** y el **Tanque 3**, los cuales juegan un papel clave en la distribución hacia los clientes. El **Tanque 2** abastece principalmente a **Cliente 1**, y el **Tanque 3** satisface la demanda de **Cliente 3** en todos los escenarios.\n",
        "\n",
        "La estocasticidad del modelo se refleja en la flexibilidad de la asignación de los flujos según los diferentes escenarios de demanda. Esto permite que el modelo ajuste las distribuciones de los productos de manera eficiente para maximizar el beneficio total, adaptándose a la incertidumbre en las demandas de los clientes y en las capacidades de los tanques. En general, la solución optimiza los recursos disponibles y asegura una asignación adecuada de la producción según las condiciones del problema."
      ],
      "metadata": {
        "id": "f0IWG_JbNG9U"
      }
    }
  ]
}